{
  "nbformat": 4,
  "nbformat_minor": 0,
  "metadata": {
    "colab": {
      "name": "Untitled0.ipynb",
      "version": "0.3.2",
      "provenance": [],
      "private_outputs": true,
      "include_colab_link": true
    },
    "kernelspec": {
      "name": "python3",
      "display_name": "Python 3"
    },
    "accelerator": "GPU"
  },
  "cells": [
    {
      "cell_type": "markdown",
      "metadata": {
        "id": "view-in-github",
        "colab_type": "text"
      },
      "source": [
        "<a href=\"https://colab.research.google.com/github/hwwu/AlphaZero_Gomoku/blob/master/Untitled0.ipynb\" target=\"_parent\"><img src=\"https://colab.research.google.com/assets/colab-badge.svg\" alt=\"Open In Colab\"/></a>"
      ]
    },
    {
      "metadata": {
        "id": "LLli2L8X8vNP",
        "colab_type": "code",
        "colab": {}
      },
      "cell_type": "code",
      "source": [
        "import numpy as np\n",
        "import pandas as pd"
      ],
      "execution_count": 0,
      "outputs": []
    },
    {
      "metadata": {
        "id": "LXiYMt-U8HoJ",
        "colab_type": "code",
        "colab": {}
      },
      "cell_type": "code",
      "source": [
        "import tensorflow as tf\n",
        " \n",
        "with tf.device('/cpu:0'):\n",
        "    a = tf.constant([1.0,2.0,3.0],shape=[3],name='a')\n",
        "    b = tf.constant([1.0,2.0,3.0],shape=[3],name='b')\n",
        "with tf.device('/gpu:0'):\n",
        "    c = a+b\n",
        "   \n",
        "#注意：allow_soft_placement=True表明：计算设备可自行选择，如果没有这个参数，会报错。\n",
        "#因为不是所有的操作都可以被放在GPU上，如果强行将无法放在GPU上的操作指定到GPU上，将会报错。\n",
        "sess = tf.Session(config=tf.ConfigProto(allow_soft_placement=True,log_device_placement=True))\n",
        "#sess = tf.Session(config=tf.ConfigProto(log_device_placement=True))\n",
        "sess.run(tf.global_variables_initializer())\n",
        "print(sess.run(c))"
      ],
      "execution_count": 0,
      "outputs": []
    },
    {
      "metadata": {
        "id": "WhHRtx6V-UeQ",
        "colab_type": "code",
        "colab": {}
      },
      "cell_type": "code",
      "source": [
        "!pip install -q psutil"
      ],
      "execution_count": 0,
      "outputs": []
    },
    {
      "metadata": {
        "id": "9nSkz_Y8-XbM",
        "colab_type": "code",
        "colab": {}
      },
      "cell_type": "code",
      "source": [
        "import keras\n",
        "from keras.datasets import mnist\n",
        "from keras.models import Sequential\n",
        "from keras.layers import Dense, Dropout, Flatten\n",
        "from keras.layers import Conv2D, MaxPooling2D\n",
        "from keras import backend as K\n",
        "\n",
        "batch_size = 128\n",
        "num_classes = 10\n",
        "epochs = 12\n",
        "\n",
        "# input image dimensions\n",
        "img_rows, img_cols = 28, 28\n",
        "\n",
        "# the data, shuffled and split between train and test sets\n",
        "(x_train, y_train), (x_test, y_test) = mnist.load_data()\n",
        "\n",
        "if K.image_data_format() == 'channels_first':\n",
        "    x_train = x_train.reshape(x_train.shape[0], 1, img_rows, img_cols)\n",
        "    x_test = x_test.reshape(x_test.shape[0], 1, img_rows, img_cols)\n",
        "    input_shape = (1, img_rows, img_cols)\n",
        "else:\n",
        "    x_train = x_train.reshape(x_train.shape[0], img_rows, img_cols, 1)\n",
        "    x_test = x_test.reshape(x_test.shape[0], img_rows, img_cols, 1)\n",
        "    input_shape = (img_rows, img_cols, 1)\n",
        "\n",
        "x_train = x_train.astype('float32')\n",
        "x_test = x_test.astype('float32')\n",
        "x_train /= 255\n",
        "x_test /= 255\n",
        "print('x_train shape:', x_train.shape)\n",
        "print(x_train.shape[0], 'train samples')\n",
        "print(x_test.shape[0], 'test samples')\n",
        "\n",
        "# convert class vectors to binary class matrices\n",
        "y_train = keras.utils.to_categorical(y_train, num_classes)\n",
        "y_test = keras.utils.to_categorical(y_test, num_classes)\n",
        "\n",
        "model = Sequential()\n",
        "model.add(Conv2D(32, kernel_size=(3, 3),\n",
        "                 activation='relu',\n",
        "                 input_shape=input_shape))\n",
        "model.add(Conv2D(64, (3, 3), activation='relu'))\n",
        "model.add(MaxPooling2D(pool_size=(2, 2)))\n",
        "model.add(Dropout(0.5))\n",
        "model.add(Flatten())\n",
        "model.add(Dense(128, activation='relu'))\n",
        "model.add(Dropout(0.5))\n",
        "model.add(Dense(num_classes, activation='softmax'))\n",
        "\n",
        "model.compile(loss=keras.losses.categorical_crossentropy,\n",
        "              optimizer=keras.optimizers.Adadelta(),\n",
        "              metrics=['accuracy'])\n",
        "\n",
        "model.fit(x_train, y_train,\n",
        "          batch_size=batch_size,\n",
        "          epochs=epochs,\n",
        "          verbose=1,\n",
        "          validation_data=(x_test, y_test))\n",
        "score = model.evaluate(x_test, y_test, verbose=0)\n",
        "print('Test loss:', score[0])\n",
        "print('Test accuracy:', score[1])\n"
      ],
      "execution_count": 0,
      "outputs": []
    },
    {
      "metadata": {
        "id": "nTpcOT9W_-54",
        "colab_type": "code",
        "colab": {}
      },
      "cell_type": "code",
      "source": [
        "a = [1,2,3]\n",
        "a = np.array(a)"
      ],
      "execution_count": 0,
      "outputs": []
    },
    {
      "metadata": {
        "id": "bk5Z52cMAGqw",
        "colab_type": "code",
        "colab": {}
      },
      "cell_type": "code",
      "source": [
        "import pandas as pd"
      ],
      "execution_count": 0,
      "outputs": []
    },
    {
      "metadata": {
        "id": "avUCG-glAMGF",
        "colab_type": "code",
        "colab": {}
      },
      "cell_type": "code",
      "source": [
        ""
      ],
      "execution_count": 0,
      "outputs": []
    },
    {
      "metadata": {
        "id": "_ZKA-QVkByAo",
        "colab_type": "code",
        "colab": {}
      },
      "cell_type": "code",
      "source": [
        "\n",
        "from pydrive.auth import GoogleAuth\n",
        "from pydrive.drive import GoogleDrive\n",
        "from google.colab import auth\n",
        "from oauth2client.client import GoogleCredentials\n",
        "\n",
        "# Authenticate and create the PyDrive client.\n",
        "# This only needs to be done once in a notebook.\n",
        "auth.authenticate_user()\n",
        "gauth = GoogleAuth()\n",
        "gauth.credentials = GoogleCredentials.get_application_default()\n",
        "drive = GoogleDrive(gauth)\n"
      ],
      "execution_count": 0,
      "outputs": []
    },
    {
      "metadata": {
        "id": "JP3A7gQ6PKb0",
        "colab_type": "code",
        "colab": {}
      },
      "cell_type": "code",
      "source": [
        "import psutil\n"
      ],
      "execution_count": 0,
      "outputs": []
    },
    {
      "metadata": {
        "id": "v1NUKxKUPckD",
        "colab_type": "code",
        "colab": {}
      },
      "cell_type": "code",
      "source": [
        "psutil.cpu_count()"
      ],
      "execution_count": 0,
      "outputs": []
    },
    {
      "metadata": {
        "id": "LvbWQYRsPikE",
        "colab_type": "code",
        "colab": {}
      },
      "cell_type": "code",
      "source": [
        "psutil.cpu_count(logical=False)"
      ],
      "execution_count": 0,
      "outputs": []
    },
    {
      "metadata": {
        "id": "MHD72a3fPvcM",
        "colab_type": "code",
        "colab": {}
      },
      "cell_type": "code",
      "source": [
        "#LOG:\n",
        "#   test to check CPU ,memory and process state\n",
        "#   built time 2017-05-19\n",
        "#   coder:ly\n",
        " \n",
        "import os\n",
        "import time\n",
        "import psutil\n",
        "import sys\n",
        "import atexit\n",
        " \n",
        "#the process name\n",
        "PROCESS_NAME1=\"dwm.exe\"\n",
        "PROCESS_NAME2=\"QQ.exe\"\n",
        "PROCESS_NAME3=\"WeChat.exe\"\n",
        "PROCESS_NAME4=\"wininit.exe\"\n",
        "PROCESS_NAME5=\"360Tray.exe\"\n",
        "PROCESS_NAME6=\"conhost.exe\"\n",
        " \n",
        " \n",
        "#function of cpu total state\n",
        "def GetCPUstate(time_count=1):              #cpu物理个数   +   cpu总使用率\n",
        "    return ('cpu物理个数:'+str(psutil.cpu_count(logical=False))+\"\\t\"+\"cpu总使用率:\"+str(psutil.cpu_percent(time_count,0)) + \"%\")\n",
        " \n",
        " \n",
        " \n",
        "#function of evryone state\n",
        "def GetCPUsatus(time_count=1):              #每个cpu的使用率\n",
        "    return ('每个cpu的使用率:'+str(psutil.cpu_percent(time_count,1)) + \"%\")\n",
        " \n",
        " \n",
        "#function of memory state\n",
        "def GetMemorystate():\n",
        "    phymem=psutil.virtual_memory()\n",
        "    string =\"内存总数:\"+str(int(phymem.total / 1024 /1024))+\"M\"             #内存总数\n",
        "    string +=\"\\t\"\n",
        "    string +=\"已使用内存:\"+str(int(phymem.used / 1024 / 1024))+\"M\"            #已使用内存\n",
        "    string += \"\\t\"\n",
        "    string +=\"剩余内存:\"+str(int(phymem.free / 1024 / 1024))+\"M\"            #剩余内存\n",
        "    string += \"\\t\"\n",
        "    sum_mem=\"内存使用率:\"+str( int(phymem.used / 1024 / 1024) / int(phymem.total / 1024 /1024) * 100)         #内存使用率\n",
        "    string +=sum_mem[0:5]+\"%\"\n",
        "    return (string)\n",
        " \n",
        " \n",
        " \n",
        "#function of disk state\n",
        "def GetDisksatate():\n",
        "    diskinfo=psutil.disk_usage('/')\n",
        "    disk_str =\"硬盘总容量:\"+str(int(diskinfo.total/1024/1024/1024))+\"G\"               #硬盘总容量\n",
        "    disk_str +=\"\\t\"\n",
        "    disk_str +=\"已使用硬盘容量:\"+str(int(diskinfo.used/1024/1024/1024))+\"G\"               #已使用硬盘容量\n",
        "    disk_str += \"\\t\"\n",
        "    disk_str +=\"剩余容量:\"+str(int(diskinfo.free/1024/1024/1024))+\"G\"               #剩余容量\n",
        "    disk_str += \"\\t\"\n",
        "    sum_disk=\"硬盘使用率:\"+str( int(diskinfo.used/1024/1024/1024) / int(diskinfo.total/1024/1024/1024) * 100)         #硬盘使用率\n",
        "    disk_str +=sum_disk[0:5]+\"%\"\n",
        "    return (disk_str)\n",
        " \n",
        " \n",
        " \n",
        " \n",
        "#main\n",
        "def GetInfoMain():\n",
        "        time_count =1\n",
        "        infomaition =GetCPUstate(time_count)\n",
        "        infomaition +='\\n'\n",
        "        infomaition +=GetCPUsatus(time_count)\n",
        "        infomaition +='\\n'\n",
        "        infomaition +=GetMemorystate()\n",
        "        infomaition +='\\n'\n",
        "        infomaition +=GetDisksatate()\n",
        " \n",
        "        print(infomaition)\n",
        "#         return (infomaition)\n",
        " \n",
        " \n",
        "GetInfoMain()\n",
        "#try:\n",
        "#    while 1:\n",
        "#        time.sleep(1)\n",
        "#        strstr=GetInfoMain()\n",
        "#        print (strstr)\n",
        "#except:\n",
        "#   print (\"exit bd-CState.py\")"
      ],
      "execution_count": 0,
      "outputs": []
    }
  ]
}